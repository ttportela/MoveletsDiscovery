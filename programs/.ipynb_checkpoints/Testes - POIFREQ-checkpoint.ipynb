{
 "cells": [
  {
   "cell_type": "markdown",
   "metadata": {},
   "source": [
    "# Testes - POIFREQ"
   ]
  },
  {
   "cell_type": "code",
   "execution_count": 14,
   "metadata": {},
   "outputs": [],
   "source": [
    "# Sequence length to consider\n",
    "sequences = [1]\n",
    "\n",
    "folder = '../new_data/promoters/run1/'\n",
    "\n",
    "datasets = ['sequence']\n",
    "\n",
    "# Indicates the column from each dataset to be analysed\n",
    "dd = {'sequence': 'sequence'}\n",
    "\n",
    "results_dir = '../results/teste_poifreq/promoterseq/'"
   ]
  },
  {
   "cell_type": "code",
   "execution_count": 2,
   "metadata": {},
   "outputs": [],
   "source": [
    "# Example to multiple datasets\n",
    "# datasets = ['d_1', 'd_2']\n",
    "# dd = {'d_1': c_1', 'd_2': 'c_2}"
   ]
  },
  {
   "cell_type": "code",
   "execution_count": 3,
   "metadata": {},
   "outputs": [],
   "source": [
    "from poifreq.poifreq import poifreq_all"
   ]
  },
  {
   "cell_type": "code",
   "execution_count": 5,
   "metadata": {},
   "outputs": [
    {
     "name": "stdout",
     "output_type": "stream",
     "text": [
      "Dataset: sequence, Feature: sequence, Sequence: 1\n",
      "Starting POI...\n",
      "Starting NPOI...\n",
      "Starting WNPOI...\n"
     ]
    }
   ],
   "source": [
    "for sequence in sequences:\n",
    "    for dataset in datasets:\n",
    "        feature = dd[dataset]\n",
    "        poifreq_all(sequence, dataset, feature, folder, results_dir)"
   ]
  },
  {
   "cell_type": "code",
   "execution_count": 20,
   "metadata": {},
   "outputs": [
    {
     "name": "stdout",
     "output_type": "stream",
     "text": [
      "WARNING: File 'metrics/_.csv' not found!\r\n",
      "Traceback (most recent call last):\r\n",
      "  File \"poifreq/classification/classification-p.py\", line 38, in <module>\r\n",
      "    x_train = pd.read_csv(path_name+METHOD+'_'+DATASET+'-x_train.csv', header=None)\r\n",
      "  File \"/opt/anaconda3/lib/python3.7/site-packages/pandas/io/parsers.py\", line 676, in parser_f\r\n",
      "    return _read(filepath_or_buffer, kwds)\r\n",
      "  File \"/opt/anaconda3/lib/python3.7/site-packages/pandas/io/parsers.py\", line 448, in _read\r\n",
      "    parser = TextFileReader(fp_or_buf, **kwds)\r\n",
      "  File \"/opt/anaconda3/lib/python3.7/site-packages/pandas/io/parsers.py\", line 880, in __init__\r\n",
      "    self._make_engine(self.engine)\r\n",
      "  File \"/opt/anaconda3/lib/python3.7/site-packages/pandas/io/parsers.py\", line 1114, in _make_engine\r\n",
      "    self._engine = CParserWrapper(self.f, **self.options)\r\n",
      "  File \"/opt/anaconda3/lib/python3.7/site-packages/pandas/io/parsers.py\", line 1891, in __init__\r\n",
      "    self._reader = parsers.TextReader(src, **kwds)\r\n",
      "  File \"pandas/_libs/parsers.pyx\", line 374, in pandas._libs.parsers.TextReader.__cinit__\r\n",
      "  File \"pandas/_libs/parsers.pyx\", line 673, in pandas._libs.parsers.TextReader._setup_parser_source\r\n",
      "FileNotFoundError: [Errno 2] File _-x_train.csv does not exist: '_-x_train.csv'\r\n"
     ]
    }
   ],
   "source": [
    "method = 'poi'\n",
    "ds = 'sequence_1_sequence'\n",
    "!python 'poifreq/classification/classification-p.py' $method $ds \"$results_dir\" \"$results_dir/results_$method_$ds\""
   ]
  },
  {
   "cell_type": "code",
   "execution_count": null,
   "metadata": {},
   "outputs": [],
   "source": []
  }
 ],
 "metadata": {
  "kernelspec": {
   "display_name": "Python 3",
   "language": "python",
   "name": "python3"
  },
  "language_info": {
   "codemirror_mode": {
    "name": "ipython",
    "version": 3
   },
   "file_extension": ".py",
   "mimetype": "text/x-python",
   "name": "python",
   "nbconvert_exporter": "python",
   "pygments_lexer": "ipython3",
   "version": "3.7.6"
  }
 },
 "nbformat": 4,
 "nbformat_minor": 4
}
