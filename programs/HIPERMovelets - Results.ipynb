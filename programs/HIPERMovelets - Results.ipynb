{
 "cells": [
  {
   "cell_type": "markdown",
   "metadata": {},
   "source": [
    "# HIPERMovelets Experiment Results\n",
    "\n",
    "---\n",
    "\n",
    "### 1. Paths Configurations"
   ]
  },
  {
   "cell_type": "code",
   "execution_count": 1,
   "metadata": {},
   "outputs": [],
   "source": [
    "import os\n",
    "\n",
    "root     = './../'\n",
    "# root     = '/home/tarlis/Research/tarlis'\n",
    "data     = os.path.join(root, 'data')\n",
    "res_path = os.path.join(root, 'results')\n",
    "prg_path = os.path.join(root, 'automatize')"
   ]
  },
  {
   "cell_type": "markdown",
   "metadata": {},
   "source": [
    "### 2. Read Results"
   ]
  },
  {
   "cell_type": "code",
   "execution_count": null,
   "metadata": {},
   "outputs": [],
   "source": [
    "from automatize.analysis import results2df, printLatex, kFoldResults, printHour\n",
    "import pandas as pd\n",
    "from IPython.display import display\n",
    "\n",
    "def printTable(df): \n",
    "    display(df)"
   ]
  },
  {
   "cell_type": "code",
   "execution_count": null,
   "metadata": {
    "scrolled": true
   },
   "outputs": [],
   "source": [
    "# COMPACT\n",
    "methods_dic = {'MARC': ['MARC'], 'MASTERMovelets/MML': ['MML'], 'HIPERMovelets/HpL-50': ['HL', 'H'], 'HIPERPivots': ['HpL', 'Hp']}\n",
    "datasets = ['geo_only', 'specific', 'generic']\n",
    "prefixes = ['brightkite', 'gowalla', 'foursquare_nyc', 'foursquare_global']\n",
    "prefixes = ['Foursquare NYC']\n",
    "\n",
    "for prefix in prefixes:\n",
    "    table = pd.DataFrame()\n",
    "    for dataset in datasets:\n",
    "        data = pd.DataFrame()\n",
    "        for folder, methods in methods_dic.items():\n",
    "            for method in methods:\n",
    "                df = kFoldResults(os.path.join(res_path, folder), prefix, method+'-'+dataset)\n",
    "                printTable(df)\n",
    "                print('% ---   ---   ---   ---   ---   ---   ---   ---   ---   ---   ---   ---   --- ')\n",
    "                if not len(data.columns) > 0:\n",
    "                    data = df[['Dataset', ' ']]\n",
    "                data[method] = df[[method+'-'+dataset]]\n",
    "        data.at[0,'Dataset'] = prefix + ' ('+dataset+')'\n",
    "        table = pd.concat([table, data], axis=0)\n",
    "    table = table.reset_index(drop=True)\n",
    "    printLatex(table, ajust=9)\n",
    "    print('% ------------------------------------------------------------------------ ')"
   ]
  },
  {
   "cell_type": "code",
   "execution_count": null,
   "metadata": {
    "scrolled": false
   },
   "outputs": [],
   "source": [
    "# Resultados run4 de 3 DS:\n",
    "\n",
    "# methods_dic = {'MARC': ['MARC'], 'MASTERMovelets/Log': ['MML'], \\\n",
    "#                'HIPERMovelets_v1': ['HL'], 'HIPERPivots_v1': ['HpL']}\n",
    "# methods_dic = {'MARC': ['MARC'], 'MASTERMovelets/Log': ['MML'], \\\n",
    "#                'HIPERMovelets_v1': ['HL'], 'HIPERPivots_v1': ['HpL'], \\\n",
    "#                'HIPERmovelets/T90': ['HpL'], 'HIPERmovelets/T90': ['HpL']}\n",
    "methods_dic = {'MML-run4_4T_60G': ['MML'], \\\n",
    "#                'MASTERMovelets/Log': ['MML'], \\\n",
    "#                'HIPERPivots_v1': ['HpL'], \\\n",
    "#                'HIPERMovelets/T90': ['HpL'], \\\n",
    "#                'hiper-compare_v2': ['HpL'], \\\n",
    "#                'super-logd-3T60G': ['SMLD'], \\\n",
    "               'SMLD90-run4_4T_60G': ['SMLD'], \\\n",
    "               'HpL-run4_4T_60G': ['HpL'] \\\n",
    "              }\n",
    "datasets = ['geo_only', 'specific', 'generic']\n",
    "prefixes = ['Foursquare NYC', 'Brightkite', 'Gowalla']\n",
    "\n",
    "iff = False\n",
    "\n",
    "for prefix in prefixes:\n",
    "    table = pd.DataFrame()\n",
    "    for dataset in datasets:\n",
    "        data = pd.DataFrame()\n",
    "        for folder, methods in methods_dic.items():\n",
    "            for method in methods:\n",
    "                df = results2df(os.path.join(res_path, folder, 'run4'), prefix)#, method+'-'+dataset)\n",
    "#                 printTable(df)\n",
    "                print('% ---   ---   ---   ---   ---   ---   ---   ---   ---   ---   ---   ---   --- ')\n",
    "                if not len(data.columns) > 0:\n",
    "                    data = df[['Dataset', ' ']]\n",
    "                if method+'-'+dataset in df:\n",
    "                    data[method if iff else (method+'-'+folder)] = df[[method+'-'+dataset]]\n",
    "#                     data[method+'-'+folder] = df[[method+'-'+dataset]]\n",
    "                else:\n",
    "                    data[method if iff else (method+'-'+folder)] = '-'\n",
    "#                     data[method+'-'+folder] = '-'\n",
    "        data.at[0,'Dataset'] = prefix + ' ('+dataset.replace('_',' ')+')'\n",
    "        table = pd.concat([table, data], axis=0)\n",
    "    table = table.reset_index(drop=True)\n",
    "    printTable(table)\n",
    "    printLatex(table, ajust=9)\n",
    "    print('% ------------------------------------------------------------------------ ')"
   ]
  },
  {
   "cell_type": "markdown",
   "metadata": {},
   "source": [
    "### Printing Results"
   ]
  },
  {
   "cell_type": "code",
   "execution_count": null,
   "metadata": {},
   "outputs": [],
   "source": [
    "# ALL RUNS\n",
    "folder  = 'HIPERMovelets'\n",
    "methods = ['HL', 'HpL', 'H', 'Hp']\n",
    "datasets = ['geo_only', 'specific', 'generic']\n",
    "prefixes = ['Brightkite', 'Gowalla', 'Foursquare_nyc']\n",
    "\n",
    "for prefix in prefixes:\n",
    "    for method in methods:\n",
    "        for dataset in datasets:\n",
    "            df = kFoldResults(os.path.join(res_path, folder), prefix, method+'-'+dataset)\n",
    "#             printLatex(df, ajust=9)\n",
    "            \n",
    "            printTable(df)\n",
    "            print('% ------------------------------------------------------------------------ ')"
   ]
  },
  {
   "cell_type": "markdown",
   "metadata": {},
   "source": [
    "---\n",
    "To print the dataframe result in a Latex formatted table:"
   ]
  },
  {
   "cell_type": "code",
   "execution_count": null,
   "metadata": {},
   "outputs": [],
   "source": [
    "i = 4\n",
    "prefix      = os.path.join('run'+str(i),'Brightkite')"
   ]
  },
  {
   "cell_type": "code",
   "execution_count": null,
   "metadata": {},
   "outputs": [],
   "source": [
    "df = results2df(os.path.join(res_path, 'HIPERMovelets'), prefix)\n",
    "df"
   ]
  },
  {
   "cell_type": "code",
   "execution_count": null,
   "metadata": {},
   "outputs": [],
   "source": [
    "printLatex(df)"
   ]
  },
  {
   "cell_type": "code",
   "execution_count": null,
   "metadata": {},
   "outputs": [],
   "source": []
  },
  {
   "cell_type": "code",
   "execution_count": null,
   "metadata": {},
   "outputs": [],
   "source": [
    "import pandas as pd\n",
    "f=pd.read_csv(os.path.join(data,'brightkite','run1',\"specific_\"+\"test.csv\"))\n",
    "keep_col = ['tid','label','poi']\n",
    "new_f = f[keep_col]\n",
    "new_f.to_csv(os.path.join(data,'brightkite','run1',\"poi_only_\"+\"test.csv\"), index=False)"
   ]
  },
  {
   "cell_type": "code",
   "execution_count": null,
   "metadata": {},
   "outputs": [],
   "source": []
  },
  {
   "cell_type": "code",
   "execution_count": null,
   "metadata": {},
   "outputs": [],
   "source": [
    "from automatize.analysis import def_random_seed, ACC4All\n",
    "\n",
    "\n",
    "save_results = True\n",
    "\n",
    "def_random_seed(random_num=1, seed_num=1)\n",
    "\n",
    "# --- \n",
    "\n",
    "\n",
    "# methods = ['HL', 'HpL']\n",
    "# datasets = ['geo_only', 'specific']\n",
    "prefixes = ['Brightkite', 'Gowalla', 'Foursquare_nyc']#, 'Foursquare_global']\n",
    "\n",
    "for prefix in prefixes:\n",
    "    for k in range(1, 6):\n",
    "        respath = os.path.join(res_path, 'Hiper - 5fold_3T_60G', 'run'+str(k), prefix)\n",
    "\n",
    "        print(respath)\n",
    "#         ACC4All(res_path, prefix, save_results)"
   ]
  },
  {
   "cell_type": "code",
   "execution_count": null,
   "metadata": {},
   "outputs": [],
   "source": [
    "from keras import backend as K\n",
    "import tensorflow as tf\n",
    "\n",
    "THREADS = 3\n",
    "\n",
    "config = tf.ConfigProto(intra_op_parallelism_threads=THREADS, \\\n",
    "                        inter_op_parallelism_threads=THREADS, \\\n",
    "                        allow_soft_placement=True, \\\n",
    "                        device_count = {'CPU': THREADS})\n",
    "session = tf.Session(config=config)\n",
    "K.set_session(session)"
   ]
  },
  {
   "cell_type": "code",
   "execution_count": null,
   "metadata": {},
   "outputs": [],
   "source": [
    "from automatize.run import k_MARC\n",
    "\n",
    "def testesMARC(data, res_path, prefix, dataset):\n",
    "    marcpath = os.path.join(prog_path, 'marc')\n",
    "    k = 5\n",
    "    \n",
    "    if dataset is not '':\n",
    "        ds = '-' + dataset\n",
    "        dstrain=dataset+\"_train.csv\"\n",
    "        dstest=dataset+\"_test.csv\"\n",
    "    else:\n",
    "        ds = ''\n",
    "        dstrain=\"train.csv\"\n",
    "        dstest=\"test.csv\"\n",
    "    \n",
    "    k_MARC(k, data, res_path, prefix, 'MARC'+ds, train=dstrain, test=dstest, print_only=True, prg_path=marcpath)\n",
    "    \n",
    "testesMARC(data, res_path, prefix, dataset):"
   ]
  },
  {
   "cell_type": "code",
   "execution_count": null,
   "metadata": {},
   "outputs": [],
   "source": []
  },
  {
   "cell_type": "code",
   "execution_count": null,
   "metadata": {},
   "outputs": [],
   "source": [
    "from automatize.run import run\n",
    "import os\n",
    "\n",
    "prefix = 'Fnyc-2'\n",
    "datapath = os.path.join(data, 'foursquare_nyc', 'run4')\n",
    "ds = 'geo_only'\n",
    "descriptor = os.path.join(data, 'descriptors', 'FoursquareNYC_geo_only_hp')\n",
    "THREADS = 3\n",
    "GIG = '3'\n",
    "toprint = False\n",
    "\n",
    "# run(datapath, os.path.join(res_path, 'test-192'), prefix, 'HpL-'+ds, descriptor, Ms=-3, extra='-version hiper-pvt -T 0.75', \\\n",
    "#     n_threads=THREADS, print_only=toprint)\n",
    "# run(datapath, os.path.join(res_path, 'test-192'), prefix, 'Hp-'+ds, descriptor, extra='-version hiper-pvt -T 0.75', \\\n",
    "#     n_threads=THREADS, print_only=toprint)\n",
    "run(datapath, os.path.join(res_path, 'test-192'), prefix, 'HceL-'+ds, descriptor, Ms=-3, extra='-version hiper-ce -T 0.85', \\\n",
    "    n_threads=THREADS, print_only=toprint)\n",
    "# run(datapath, os.path.join(res_path, 'test-192'), prefix, 'Hce-'+ds, descriptor, extra='-version hiper-ce -T 0.5', \\\n",
    "#     n_threads=THREADS, print_only=toprint)"
   ]
  },
  {
   "cell_type": "markdown",
   "metadata": {},
   "source": [
    "\\# By Tarlis Portela (2020)"
   ]
  }
 ],
 "metadata": {
  "kernelspec": {
   "display_name": "Python 3",
   "language": "python",
   "name": "python3"
  },
  "language_info": {
   "codemirror_mode": {
    "name": "ipython",
    "version": 3
   },
   "file_extension": ".py",
   "mimetype": "text/x-python",
   "name": "python",
   "nbconvert_exporter": "python",
   "pygments_lexer": "ipython3",
   "version": "3.7.6"
  }
 },
 "nbformat": 4,
 "nbformat_minor": 4
}
