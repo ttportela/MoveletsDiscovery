{
 "cells": [
  {
   "cell_type": "markdown",
   "metadata": {},
   "source": [
    "# HIPERMovelets Experiment Results\n",
    "\n",
    "---\n",
    "\n",
    "### 1. Paths Configurations"
   ]
  },
  {
   "cell_type": "code",
   "execution_count": 1,
   "metadata": {},
   "outputs": [],
   "source": [
    "import os\n",
    "\n",
    "root     = './../'\n",
    "data     = os.path.join(root, 'data')\n",
    "res_path = os.path.join(root, 'results')\n",
    "prg_path = os.path.join(root, 'automatize')"
   ]
  },
  {
   "cell_type": "markdown",
   "metadata": {},
   "source": [
    "### 2. Read Results"
   ]
  },
  {
   "cell_type": "code",
   "execution_count": 2,
   "metadata": {},
   "outputs": [
    {
     "name": "stderr",
     "output_type": "stream",
     "text": [
      "Using TensorFlow backend.\n"
     ]
    }
   ],
   "source": [
    "from automatize.analysis import results2df, printLatex"
   ]
  },
  {
   "cell_type": "code",
   "execution_count": 3,
   "metadata": {},
   "outputs": [],
   "source": [
    "prefix      = os.path.join('run1','Brightkite')"
   ]
  },
  {
   "cell_type": "code",
   "execution_count": 4,
   "metadata": {},
   "outputs": [
    {
     "name": "stdout",
     "output_type": "stream",
     "text": [
      "Looking for result files in ./../results/HIPERMovelets/run1/Brightkite/*/*.txt\n",
      "Loading HL-geo_only results from: ./../results/HIPERMovelets/run1/Brightkite/HL-geo_only\n"
     ]
    },
    {
     "name": "stderr",
     "output_type": "stream",
     "text": [
      "/Users/tarlis/git/wyzard/dist/automatize/analysis.py:341: ParserWarning: Falling back to the 'python' engine because the 'c' engine does not support regex separators (separators > 1 char and different from '\\s+' are interpreted as regex); you can avoid this warning by specifying engine='python'.\n",
      "  data = pd.read_csv(file_name, header = None, error_bad_lines=False, warn_bad_lines=False, delimiter='-=-')\n"
     ]
    },
    {
     "name": "stdout",
     "output_type": "stream",
     "text": [
      "Loading HL-specific results from: ./../results/HIPERMovelets/run1/Brightkite/HL-specific\n",
      "Loading HpL-geo_only results from: ./../results/HIPERMovelets/run1/Brightkite/HpL-geo_only\n",
      "Loading HpL-specific results from: ./../results/HIPERMovelets/run1/Brightkite/HpL-specific\n",
      "Done.\n"
     ]
    },
    {
     "data": {
      "text/html": [
       "<div>\n",
       "<style scoped>\n",
       "    .dataframe tbody tr th:only-of-type {\n",
       "        vertical-align: middle;\n",
       "    }\n",
       "\n",
       "    .dataframe tbody tr th {\n",
       "        vertical-align: top;\n",
       "    }\n",
       "\n",
       "    .dataframe thead th {\n",
       "        text-align: right;\n",
       "    }\n",
       "</style>\n",
       "<table border=\"1\" class=\"dataframe\">\n",
       "  <thead>\n",
       "    <tr style=\"text-align: right;\">\n",
       "      <th></th>\n",
       "      <th>Dataset</th>\n",
       "      <th></th>\n",
       "      <th>HL-geo_only</th>\n",
       "      <th>HL-specific</th>\n",
       "      <th>HpL-geo_only</th>\n",
       "      <th>HpL-specific</th>\n",
       "    </tr>\n",
       "  </thead>\n",
       "  <tbody>\n",
       "    <tr>\n",
       "      <th>0</th>\n",
       "      <td>run1/Brightkite</td>\n",
       "      <td>Candidates</td>\n",
       "      <td>291,445</td>\n",
       "      <td>3,452,280</td>\n",
       "      <td>151,602</td>\n",
       "      <td>784,564</td>\n",
       "    </tr>\n",
       "    <tr>\n",
       "      <th>1</th>\n",
       "      <td></td>\n",
       "      <td>Movelets</td>\n",
       "      <td>38,270</td>\n",
       "      <td>35,257</td>\n",
       "      <td>45,146</td>\n",
       "      <td>48,686</td>\n",
       "    </tr>\n",
       "    <tr>\n",
       "      <th>2</th>\n",
       "      <td></td>\n",
       "      <td>MLP</td>\n",
       "      <td>94.418</td>\n",
       "      <td>97.073</td>\n",
       "      <td>95.235</td>\n",
       "      <td>96.732</td>\n",
       "    </tr>\n",
       "    <tr>\n",
       "      <th>3</th>\n",
       "      <td></td>\n",
       "      <td>RF</td>\n",
       "      <td>94.418</td>\n",
       "      <td>96.392</td>\n",
       "      <td>94.622</td>\n",
       "      <td>96.120</td>\n",
       "    </tr>\n",
       "    <tr>\n",
       "      <th>4</th>\n",
       "      <td></td>\n",
       "      <td>SVM</td>\n",
       "      <td>94.214</td>\n",
       "      <td>96.596</td>\n",
       "      <td>94.826</td>\n",
       "      <td>96.120</td>\n",
       "    </tr>\n",
       "    <tr>\n",
       "      <th>5</th>\n",
       "      <td></td>\n",
       "      <td>Time</td>\n",
       "      <td>0:23:3</td>\n",
       "      <td>2:33:42</td>\n",
       "      <td>0:21:53</td>\n",
       "      <td>3:35:2</td>\n",
       "    </tr>\n",
       "    <tr>\n",
       "      <th>6</th>\n",
       "      <td></td>\n",
       "      <td>T. MLP</td>\n",
       "      <td>0:14:57</td>\n",
       "      <td>0:13:45</td>\n",
       "      <td>0:17:55</td>\n",
       "      <td>0:19:58</td>\n",
       "    </tr>\n",
       "    <tr>\n",
       "      <th>7</th>\n",
       "      <td></td>\n",
       "      <td>T. RF</td>\n",
       "      <td>0:0:17</td>\n",
       "      <td>0:0:13</td>\n",
       "      <td>0:0:19</td>\n",
       "      <td>0:0:15</td>\n",
       "    </tr>\n",
       "    <tr>\n",
       "      <th>8</th>\n",
       "      <td></td>\n",
       "      <td>T. SVM</td>\n",
       "      <td>0:42:48</td>\n",
       "      <td>1:59:9</td>\n",
       "      <td>0:55:24</td>\n",
       "      <td>2:14:4</td>\n",
       "    </tr>\n",
       "    <tr>\n",
       "      <th>9</th>\n",
       "      <td></td>\n",
       "      <td>Trajs. Looked</td>\n",
       "      <td>4,625</td>\n",
       "      <td>3,720</td>\n",
       "      <td>3,775</td>\n",
       "      <td>3,421</td>\n",
       "    </tr>\n",
       "    <tr>\n",
       "      <th>10</th>\n",
       "      <td></td>\n",
       "      <td>Trajs. Ignored</td>\n",
       "      <td>1,817</td>\n",
       "      <td>2,722</td>\n",
       "      <td>2,667</td>\n",
       "      <td>3,021</td>\n",
       "    </tr>\n",
       "  </tbody>\n",
       "</table>\n",
       "</div>"
      ],
      "text/plain": [
       "            Dataset                 HL-geo_only HL-specific HpL-geo_only  \\\n",
       "0   run1/Brightkite      Candidates     291,445   3,452,280      151,602   \n",
       "1                          Movelets      38,270      35,257       45,146   \n",
       "2                               MLP      94.418      97.073       95.235   \n",
       "3                                RF      94.418      96.392       94.622   \n",
       "4                               SVM      94.214      96.596       94.826   \n",
       "5                              Time      0:23:3     2:33:42      0:21:53   \n",
       "6                            T. MLP     0:14:57     0:13:45      0:17:55   \n",
       "7                             T. RF      0:0:17      0:0:13       0:0:19   \n",
       "8                            T. SVM     0:42:48      1:59:9      0:55:24   \n",
       "9                     Trajs. Looked       4,625       3,720        3,775   \n",
       "10                   Trajs. Ignored       1,817       2,722        2,667   \n",
       "\n",
       "   HpL-specific  \n",
       "0       784,564  \n",
       "1        48,686  \n",
       "2        96.732  \n",
       "3        96.120  \n",
       "4        96.120  \n",
       "5        3:35:2  \n",
       "6       0:19:58  \n",
       "7        0:0:15  \n",
       "8        2:14:4  \n",
       "9         3,421  \n",
       "10        3,021  "
      ]
     },
     "execution_count": 4,
     "metadata": {},
     "output_type": "execute_result"
    }
   ],
   "source": [
    "df = results2df(os.path.join(res_path, 'HIPERMovelets'), prefix)\n",
    "df"
   ]
  },
  {
   "cell_type": "markdown",
   "metadata": {},
   "source": [
    "---\n",
    "To print the dataframe result in a Latex formatted table:"
   ]
  },
  {
   "cell_type": "code",
   "execution_count": null,
   "metadata": {},
   "outputs": [],
   "source": [
    "printLatex(df)"
   ]
  },
  {
   "cell_type": "markdown",
   "metadata": {},
   "source": [
    "\\# By Tarlis Portela (2020)"
   ]
  }
 ],
 "metadata": {
  "kernelspec": {
   "display_name": "Python 3",
   "language": "python",
   "name": "python3"
  },
  "language_info": {
   "codemirror_mode": {
    "name": "ipython",
    "version": 3
   },
   "file_extension": ".py",
   "mimetype": "text/x-python",
   "name": "python",
   "nbconvert_exporter": "python",
   "pygments_lexer": "ipython3",
   "version": "3.7.6"
  }
 },
 "nbformat": 4,
 "nbformat_minor": 4
}
