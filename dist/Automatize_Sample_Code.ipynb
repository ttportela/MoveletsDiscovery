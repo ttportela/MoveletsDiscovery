{
 "cells": [
  {
   "cell_type": "markdown",
   "metadata": {},
   "source": [
    "# Automatization for HIPERMovelets\n",
    "Sample Code\n",
    "\n",
    "**Observations:**\n",
    "- Not yet compatible with windows, only linux shell\n",
    "\n",
    "---\n",
    "\n",
    "### 1. Paths Configurations\n",
    "You can use configured paths if you want to move directories"
   ]
  },
  {
   "cell_type": "code",
   "execution_count": 1,
   "metadata": {},
   "outputs": [],
   "source": [
    "import os\n",
    "\n",
    "root     = './../'\n",
    "data     = os.path.join(root, 'data')\n",
    "prg_path = os.path.join(root, 'automatize')"
   ]
  },
  {
   "cell_type": "markdown",
   "metadata": {},
   "source": [
    "### 2. Run\n",
    "To run HIPERMovelets, import from package `automatize` the script run.py:"
   ]
  },
  {
   "cell_type": "code",
   "execution_count": null,
   "metadata": {},
   "outputs": [],
   "source": [
    "from automatize.run import run, k_run, mergeAndMove"
   ]
  },
  {
   "cell_type": "markdown",
   "metadata": {},
   "source": [
    "You can use the method run to run HIPERMovelets in terminal comand from Python. In this example we use the configurations:\n",
    "- `data_folder`: \n",
    "- `res_path`:\n",
    "- `prefix`:\n",
    "- `method_name`:\n",
    "- `descriptor`:\n",
    "- `ms`:\n",
    "- `Ms`:\n",
    "- `extra`:\n",
    "- `prg_path`:\n",
    "- `print_only`:\n",
    "- `keep_folder`:"
   ]
  },
  {
   "cell_type": "code",
   "execution_count": null,
   "metadata": {},
   "outputs": [],
   "source": [
    "# My Configurations:\n",
    "data_folder = os.path.join(data, 'FoursquareNY')\n",
    "res_path    = os.path.join(root, 'results')\n",
    "prefix      = 'FoursquareNY'\n",
    "method_name = 'Hiper-Log'\n",
    "descriptor  = 'FoursquareNY_specific'\n",
    "\n",
    "# Print run script:\n",
    "run(data_folder, res_path, prefix, method_name, descriptor, 'hiper', ms=-1, Ms=-3, extra='-T 0.5', \n",
    "    prg_path=prg_path, print_only=True, keep_folder=True)"
   ]
  },
  {
   "cell_type": "markdown",
   "metadata": {},
   "source": [
    "If, for some reason, you want to join again the results of each class to train.csv / test.csv, you can run the subroutine:"
   ]
  },
  {
   "cell_type": "code",
   "execution_count": null,
   "metadata": {
    "scrolled": true
   },
   "outputs": [],
   "source": [
    "mergeAndMove(os.path.join(res_path, prefix, method_name), 'MASTERMovelets', prg_path)"
   ]
  },
  {
   "cell_type": "markdown",
   "metadata": {},
   "source": [
    "To run k-fold experiments:"
   ]
  },
  {
   "cell_type": "code",
   "execution_count": null,
   "metadata": {},
   "outputs": [],
   "source": [
    "# My Configurations:\n",
    "data_folder = os.path.join(data, 'FoursquareNY')\n",
    "res_path    = os.path.join(root, 'results')\n",
    "prefix      = 'FoursquareNY'\n",
    "method_name = 'Hiper-Log'\n",
    "descriptor  = 'FoursquareNY_specific'\n",
    "\n",
    "# Print run script:\n",
    "k_run(data_folder, res_path, prefix, method_name, descriptor, 'hiper', ms=-1, Ms=-3, extra='-T 0.5', \n",
    "    prg_path=prg_path, print_only=True, keep_folder=True)"
   ]
  },
  {
   "cell_type": "markdown",
   "metadata": {},
   "source": [
    "### 3. Classification\n",
    "To run classifiers for the HIPERMovelets results, import from package `automatize` the script analysis.py:"
   ]
  },
  {
   "cell_type": "code",
   "execution_count": null,
   "metadata": {},
   "outputs": [],
   "source": [
    "from automatize.analysis import def_random_seed, ACC4All, ALL3, MLP, RF, SVM, results2df, printLatex"
   ]
  },
  {
   "cell_type": "markdown",
   "metadata": {},
   "source": [
    "This defines a random and a seed numbers for classifyers "
   ]
  },
  {
   "cell_type": "code",
   "execution_count": null,
   "metadata": {},
   "outputs": [],
   "source": [
    "save_results = True\n",
    "\n",
    "def_random_seed(random_num=1, seed_num=1)"
   ]
  },
  {
   "cell_type": "markdown",
   "metadata": {},
   "source": [
    "--- \n",
    "a. To run the classifyers for each folder inside a result path prefix:"
   ]
  },
  {
   "cell_type": "code",
   "execution_count": null,
   "metadata": {},
   "outputs": [],
   "source": [
    "ACC4All(res_path, prefix, save_results)"
   ]
  },
  {
   "cell_type": "markdown",
   "metadata": {},
   "source": [
    "b. To run the classifyers for a especific result forder:"
   ]
  },
  {
   "cell_type": "code",
   "execution_count": null,
   "metadata": {},
   "outputs": [],
   "source": [
    "ALL3(res_path, prefix, method_name)"
   ]
  },
  {
   "cell_type": "markdown",
   "metadata": {},
   "source": [
    "c. To run a specific classifyer:"
   ]
  },
  {
   "cell_type": "code",
   "execution_count": null,
   "metadata": {},
   "outputs": [],
   "source": [
    "MLP(res_path, prefix, method_name)"
   ]
  },
  {
   "cell_type": "markdown",
   "metadata": {},
   "source": [
    "---\n",
    "To load the results into an dataframe:"
   ]
  },
  {
   "cell_type": "code",
   "execution_count": null,
   "metadata": {},
   "outputs": [],
   "source": [
    "df = results2df(res_path, prefix)\n",
    "df"
   ]
  },
  {
   "cell_type": "markdown",
   "metadata": {},
   "source": [
    "---\n",
    "To print the dataframe result in a Latex formatted table:"
   ]
  },
  {
   "cell_type": "code",
   "execution_count": null,
   "metadata": {},
   "outputs": [],
   "source": [
    "printLatex(df)"
   ]
  },
  {
   "cell_type": "markdown",
   "metadata": {},
   "source": [
    "### 3. Pre-processing data\n",
    "To use helpers for data pre-processing, import from package `automatize` the script preprocessing.py:"
   ]
  },
  {
   "cell_type": "code",
   "execution_count": 2,
   "metadata": {},
   "outputs": [],
   "source": [
    "from automatize.preprocessing import joinTrainAndTest, kfold_trainAndTestSplit"
   ]
  },
  {
   "cell_type": "markdown",
   "metadata": {},
   "source": [
    "To join splitted files use:"
   ]
  },
  {
   "cell_type": "code",
   "execution_count": 3,
   "metadata": {
    "scrolled": false
   },
   "outputs": [
    {
     "name": "stdout",
     "output_type": "stream",
     "text": [
      "Joining train and test data from... ./../data/foursquare_global\n",
      "Reading train file...\n",
      "Done.\n",
      "Reading test file...\n",
      "Done.\n",
      "Saving joined dataset as: ./../data/foursquare_global/joined.csv\n",
      "Done.\n"
     ]
    },
    {
     "data": {
      "text/html": [
       "<div>\n",
       "<style scoped>\n",
       "    .dataframe tbody tr th:only-of-type {\n",
       "        vertical-align: middle;\n",
       "    }\n",
       "\n",
       "    .dataframe tbody tr th {\n",
       "        vertical-align: top;\n",
       "    }\n",
       "\n",
       "    .dataframe thead th {\n",
       "        text-align: right;\n",
       "    }\n",
       "</style>\n",
       "<table border=\"1\" class=\"dataframe\">\n",
       "  <thead>\n",
       "    <tr style=\"text-align: right;\">\n",
       "      <th></th>\n",
       "      <th>tid</th>\n",
       "      <th>label</th>\n",
       "      <th>lat</th>\n",
       "      <th>lon</th>\n",
       "      <th>day</th>\n",
       "      <th>hour</th>\n",
       "      <th>poi</th>\n",
       "      <th>category</th>\n",
       "      <th>price</th>\n",
       "      <th>rating</th>\n",
       "    </tr>\n",
       "  </thead>\n",
       "  <tbody>\n",
       "    <tr>\n",
       "      <th>0</th>\n",
       "      <td>1</td>\n",
       "      <td>1</td>\n",
       "      <td>40.694387</td>\n",
       "      <td>-73.678376</td>\n",
       "      <td>Tuesday</td>\n",
       "      <td>14</td>\n",
       "      <td>1704710</td>\n",
       "      <td>Nightlife Spot</td>\n",
       "      <td>2</td>\n",
       "      <td>-999.0</td>\n",
       "    </tr>\n",
       "    <tr>\n",
       "      <th>1</th>\n",
       "      <td>1</td>\n",
       "      <td>1</td>\n",
       "      <td>40.684260</td>\n",
       "      <td>-73.665107</td>\n",
       "      <td>Tuesday</td>\n",
       "      <td>14</td>\n",
       "      <td>2308020</td>\n",
       "      <td>Outdoors &amp; Recreation</td>\n",
       "      <td>-999</td>\n",
       "      <td>-999.0</td>\n",
       "    </tr>\n",
       "    <tr>\n",
       "      <th>2</th>\n",
       "      <td>1</td>\n",
       "      <td>1</td>\n",
       "      <td>40.694387</td>\n",
       "      <td>-73.678376</td>\n",
       "      <td>Tuesday</td>\n",
       "      <td>20</td>\n",
       "      <td>1704710</td>\n",
       "      <td>Nightlife Spot</td>\n",
       "      <td>2</td>\n",
       "      <td>-999.0</td>\n",
       "    </tr>\n",
       "    <tr>\n",
       "      <th>3</th>\n",
       "      <td>1</td>\n",
       "      <td>1</td>\n",
       "      <td>40.743780</td>\n",
       "      <td>-73.694395</td>\n",
       "      <td>Friday</td>\n",
       "      <td>11</td>\n",
       "      <td>479029</td>\n",
       "      <td>Food</td>\n",
       "      <td>2</td>\n",
       "      <td>8.2</td>\n",
       "    </tr>\n",
       "    <tr>\n",
       "      <th>4</th>\n",
       "      <td>1</td>\n",
       "      <td>1</td>\n",
       "      <td>40.742273</td>\n",
       "      <td>-73.698370</td>\n",
       "      <td>Friday</td>\n",
       "      <td>11</td>\n",
       "      <td>168952</td>\n",
       "      <td>Food</td>\n",
       "      <td>1</td>\n",
       "      <td>7.6</td>\n",
       "    </tr>\n",
       "    <tr>\n",
       "      <th>...</th>\n",
       "      <td>...</td>\n",
       "      <td>...</td>\n",
       "      <td>...</td>\n",
       "      <td>...</td>\n",
       "      <td>...</td>\n",
       "      <td>...</td>\n",
       "      <td>...</td>\n",
       "      <td>...</td>\n",
       "      <td>...</td>\n",
       "      <td>...</td>\n",
       "    </tr>\n",
       "    <tr>\n",
       "      <th>222239</th>\n",
       "      <td>35643</td>\n",
       "      <td>955</td>\n",
       "      <td>29.275192</td>\n",
       "      <td>48.087095</td>\n",
       "      <td>Friday</td>\n",
       "      <td>12</td>\n",
       "      <td>2946815</td>\n",
       "      <td>Residence</td>\n",
       "      <td>-999</td>\n",
       "      <td>-999.0</td>\n",
       "    </tr>\n",
       "    <tr>\n",
       "      <th>222240</th>\n",
       "      <td>35643</td>\n",
       "      <td>955</td>\n",
       "      <td>29.274172</td>\n",
       "      <td>48.085315</td>\n",
       "      <td>Friday</td>\n",
       "      <td>12</td>\n",
       "      <td>3324543</td>\n",
       "      <td>Residence</td>\n",
       "      <td>-999</td>\n",
       "      <td>-999.0</td>\n",
       "    </tr>\n",
       "    <tr>\n",
       "      <th>222241</th>\n",
       "      <td>35643</td>\n",
       "      <td>955</td>\n",
       "      <td>29.274172</td>\n",
       "      <td>48.085315</td>\n",
       "      <td>Friday</td>\n",
       "      <td>12</td>\n",
       "      <td>3375916</td>\n",
       "      <td>Residence</td>\n",
       "      <td>-999</td>\n",
       "      <td>-999.0</td>\n",
       "    </tr>\n",
       "    <tr>\n",
       "      <th>222242</th>\n",
       "      <td>35643</td>\n",
       "      <td>955</td>\n",
       "      <td>29.264248</td>\n",
       "      <td>48.085281</td>\n",
       "      <td>Saturday</td>\n",
       "      <td>18</td>\n",
       "      <td>3635469</td>\n",
       "      <td>Outdoors &amp; Recreation</td>\n",
       "      <td>-999</td>\n",
       "      <td>7.3</td>\n",
       "    </tr>\n",
       "    <tr>\n",
       "      <th>222243</th>\n",
       "      <td>35643</td>\n",
       "      <td>955</td>\n",
       "      <td>29.264285</td>\n",
       "      <td>48.085348</td>\n",
       "      <td>Saturday</td>\n",
       "      <td>18</td>\n",
       "      <td>3592723</td>\n",
       "      <td>Outdoors &amp; Recreation</td>\n",
       "      <td>-999</td>\n",
       "      <td>9.0</td>\n",
       "    </tr>\n",
       "  </tbody>\n",
       "</table>\n",
       "<p>663020 rows × 10 columns</p>\n",
       "</div>"
      ],
      "text/plain": [
       "          tid  label        lat        lon       day  hour      poi  \\\n",
       "0           1      1  40.694387 -73.678376   Tuesday    14  1704710   \n",
       "1           1      1  40.684260 -73.665107   Tuesday    14  2308020   \n",
       "2           1      1  40.694387 -73.678376   Tuesday    20  1704710   \n",
       "3           1      1  40.743780 -73.694395    Friday    11   479029   \n",
       "4           1      1  40.742273 -73.698370    Friday    11   168952   \n",
       "...       ...    ...        ...        ...       ...   ...      ...   \n",
       "222239  35643    955  29.275192  48.087095    Friday    12  2946815   \n",
       "222240  35643    955  29.274172  48.085315    Friday    12  3324543   \n",
       "222241  35643    955  29.274172  48.085315    Friday    12  3375916   \n",
       "222242  35643    955  29.264248  48.085281  Saturday    18  3635469   \n",
       "222243  35643    955  29.264285  48.085348  Saturday    18  3592723   \n",
       "\n",
       "                     category  price  rating  \n",
       "0              Nightlife Spot      2  -999.0  \n",
       "1       Outdoors & Recreation   -999  -999.0  \n",
       "2              Nightlife Spot      2  -999.0  \n",
       "3                        Food      2     8.2  \n",
       "4                        Food      1     7.6  \n",
       "...                       ...    ...     ...  \n",
       "222239              Residence   -999  -999.0  \n",
       "222240              Residence   -999  -999.0  \n",
       "222241              Residence   -999  -999.0  \n",
       "222242  Outdoors & Recreation   -999     7.3  \n",
       "222243  Outdoors & Recreation   -999     9.0  \n",
       "\n",
       "[663020 rows x 10 columns]"
      ]
     },
     "execution_count": 3,
     "metadata": {},
     "output_type": "execute_result"
    }
   ],
   "source": [
    "dir_path = os.path.join(data, 'foursquare_global')\n",
    "cols = ['tid','label','lat','lon','day','hour','poi','category','price','rating']\n",
    "\n",
    "df = joinTrainAndTest(dir_path, cols, train_file=\"specific_train.csv\", test_file=\"specific_test.csv\", class_col = 'label')\n",
    "df"
   ]
  },
  {
   "cell_type": "markdown",
   "metadata": {},
   "source": [
    "To k-fold split a dataset into train and test:"
   ]
  },
  {
   "cell_type": "code",
   "execution_count": 4,
   "metadata": {},
   "outputs": [
    {
     "name": "stdout",
     "output_type": "stream",
     "text": [
      "5-fold train and test split in... ./../data/foursquare_global\n",
      "Reading files...\n",
      "Done.\n",
      "Writing files...\n",
      "Done.\n"
     ]
    }
   ],
   "source": [
    "k = 5\n",
    "\n",
    "kfold_trainAndTestSplit(dir_path, k, df, random_num=1, class_col='label')"
   ]
  },
  {
   "cell_type": "markdown",
   "metadata": {},
   "source": [
    "\\# By Tarlis Portela (2020)"
   ]
  }
 ],
 "metadata": {
  "kernelspec": {
   "display_name": "Python 3",
   "language": "python",
   "name": "python3"
  },
  "language_info": {
   "codemirror_mode": {
    "name": "ipython",
    "version": 3
   },
   "file_extension": ".py",
   "mimetype": "text/x-python",
   "name": "python",
   "nbconvert_exporter": "python",
   "pygments_lexer": "ipython3",
   "version": "3.7.6"
  }
 },
 "nbformat": 4,
 "nbformat_minor": 4
}
