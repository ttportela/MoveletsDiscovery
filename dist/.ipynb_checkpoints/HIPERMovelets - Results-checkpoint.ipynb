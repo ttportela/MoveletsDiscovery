{
 "cells": [
  {
   "cell_type": "markdown",
   "metadata": {},
   "source": [
    "# HIPERMovelets Experiment Results\n",
    "\n",
    "---\n",
    "\n",
    "### 1. Paths Configurations"
   ]
  },
  {
   "cell_type": "code",
   "execution_count": 1,
   "metadata": {},
   "outputs": [],
   "source": [
    "import os\n",
    "\n",
    "root     = './../'\n",
    "data     = os.path.join(root, 'data')\n",
    "res_path = os.path.join(root, 'results')\n",
    "prg_path = os.path.join(root, 'automatize')"
   ]
  },
  {
   "cell_type": "markdown",
   "metadata": {},
   "source": [
    "### 2. Read Results"
   ]
  },
  {
   "cell_type": "code",
   "execution_count": 2,
   "metadata": {},
   "outputs": [
    {
     "name": "stderr",
     "output_type": "stream",
     "text": [
      "Using TensorFlow backend.\n"
     ]
    }
   ],
   "source": [
    "from automatize.analysis import results2df, printLatex, kFoldResults, printHour\n",
    "import pandas as pd"
   ]
  },
  {
   "cell_type": "code",
   "execution_count": 3,
   "metadata": {
    "scrolled": false
   },
   "outputs": [
    {
     "name": "stdout",
     "output_type": "stream",
     "text": [
      "Looking for result files in ./../results/HIPERMovelets/run*/Brightkite/HL-geo_only/HL-geo_only.txt\n",
      "Loading HL-geo_only results from: ./../results/HIPERMovelets/run1/Brightkite/HL-geo_only\n"
     ]
    },
    {
     "name": "stderr",
     "output_type": "stream",
     "text": [
      "/Users/tarlis/git/HIPERMovelets/dist/automatize/analysis.py:429: ParserWarning: Falling back to the 'python' engine because the 'c' engine does not support regex separators (separators > 1 char and different from '\\s+' are interpreted as regex); you can avoid this warning by specifying engine='python'.\n",
      "  data = pd.read_csv(file_name, header = None, error_bad_lines=False, warn_bad_lines=False, delimiter='-=-')\n"
     ]
    },
    {
     "name": "stdout",
     "output_type": "stream",
     "text": [
      "Loading HL-geo_only results from: ./../results/HIPERMovelets/run2/Brightkite/HL-geo_only\n",
      "Loading HL-geo_only results from: ./../results/HIPERMovelets/run3/Brightkite/HL-geo_only\n",
      "Loading HL-geo_only results from: ./../results/HIPERMovelets/run4/Brightkite/HL-geo_only\n",
      "Loading HL-geo_only results from: ./../results/HIPERMovelets/run5/Brightkite/HL-geo_only\n"
     ]
    },
    {
     "name": "stderr",
     "output_type": "stream",
     "text": [
      "/opt/anaconda3/lib/python3.7/site-packages/ipykernel_launcher.py:14: SettingWithCopyWarning: \n",
      "A value is trying to be set on a copy of a slice from a DataFrame.\n",
      "Try using .loc[row_indexer,col_indexer] = value instead\n",
      "\n",
      "See the caveats in the documentation: https://pandas.pydata.org/pandas-docs/stable/user_guide/indexing.html#returning-a-view-versus-a-copy\n",
      "  \n"
     ]
    },
    {
     "name": "stdout",
     "output_type": "stream",
     "text": [
      "Looking for result files in ./../results/HIPERMovelets/run*/Brightkite/HpL-geo_only/HpL-geo_only.txt\n",
      "Loading HpL-geo_only results from: ./../results/HIPERMovelets/run1/Brightkite/HpL-geo_only\n",
      "Loading HpL-geo_only results from: ./../results/HIPERMovelets/run2/Brightkite/HpL-geo_only\n",
      "Loading HpL-geo_only results from: ./../results/HIPERMovelets/run3/Brightkite/HpL-geo_only\n",
      "Loading HpL-geo_only results from: ./../results/HIPERMovelets/run4/Brightkite/HpL-geo_only\n",
      "Loading HpL-geo_only results from: ./../results/HIPERMovelets/run5/Brightkite/HpL-geo_only\n",
      "Looking for result files in ./../results/HIPERMovelets/run*/Brightkite/HL-specific/HL-specific.txt\n",
      "Loading HL-specific results from: ./../results/HIPERMovelets/run1/Brightkite/HL-specific\n",
      "Loading HL-specific results from: ./../results/HIPERMovelets/run2/Brightkite/HL-specific\n",
      "Loading HL-specific results from: ./../results/HIPERMovelets/run3/Brightkite/HL-specific\n",
      "Loading HL-specific results from: ./../results/HIPERMovelets/run4/Brightkite/HL-specific\n",
      "Loading HL-specific results from: ./../results/HIPERMovelets/run5/Brightkite/HL-specific\n",
      "Looking for result files in ./../results/HIPERMovelets/run*/Brightkite/HpL-specific/HpL-specific.txt\n",
      "Loading HpL-specific results from: ./../results/HIPERMovelets/run1/Brightkite/HpL-specific\n",
      "Loading HpL-specific results from: ./../results/HIPERMovelets/run2/Brightkite/HpL-specific\n",
      "Loading HpL-specific results from: ./../results/HIPERMovelets/run3/Brightkite/HpL-specific\n",
      "Loading HpL-specific results from: ./../results/HIPERMovelets/run4/Brightkite/HpL-specific\n",
      "Loading HpL-specific results from: ./../results/HIPERMovelets/run5/Brightkite/HpL-specific\n",
      "\\begin{table*}[!ht]\n",
      "\\centering\n",
      "\\begin{tabular}{|c|r||r|r|}\n",
      "\\hline\n",
      "\\hline\n",
      "Dataset &   & HL & HpL \\\\\n",
      "\n",
      "\\hline\n",
      "\\multirow{11}{2cm}{Brightkite (geo_only)}\n",
      "&     Candidates &   288,595 &   151,224 \\\\\n",
      "&       Movelets &    38,061 &    44,800 \\\\\n",
      "\\cline{2-4}\n",
      "&            MLP &    94.357 &    94.777 \\\\\n",
      "&             RF &    93.860 &    94.214 \\\\\n",
      "&            SVM &    93.673 &    93.908 \\\\\n",
      "\\cline{2-4}\n",
      "&           Time &    22m56s &    21m56s \\\\\n",
      "&         T. MLP &    14m43s &    17m29s \\\\\n",
      "&          T. RF &       16s &       18s \\\\\n",
      "&         T. SVM &    41m44s &    54m43s \\\\\n",
      "\\cline{2-4}\n",
      "&  Trajs. Looked &     4,546 &     3,739 \\\\\n",
      "& Trajs. Ignored &     1,782 &     2,589 \\\\\n",
      "\n",
      "\\hline\n",
      "\\multirow{11}{2cm}{Brightkite (specific)}\n",
      "&     Candidates & 3,374,850 &   777,337 \\\\\n",
      "&       Movelets &    34,583 &    47,962 \\\\\n",
      "\\cline{2-4}\n",
      "&            MLP &    96.696 &    96.440 \\\\\n",
      "&             RF &    95.963 &    95.573 \\\\\n",
      "&            SVM &    96.107 &    95.813 \\\\\n",
      "\\cline{2-4}\n",
      "&           Time &  2h33m32s &  3h34m40s \\\\\n",
      "&         T. MLP &    13m22s &    19m06s \\\\\n",
      "&          T. RF &       12s &       15s \\\\\n",
      "&         T. SVM &  1h54m13s &  2h11m06s \\\\\n",
      "\\cline{2-4}\n",
      "&  Trajs. Looked &     3,665 &     3,383 \\\\\n",
      "& Trajs. Ignored &     2,663 &     2,945 \\\\\n",
      "\\hline\n",
      "\\hline\n",
      "\\end{tabular}\n",
      "\\caption{Results for Brightkite (geo_only) dataset.}\n",
      "\\label{tab:results_Brightkite (geo_only)}\n",
      "\\end{table*}\n",
      "% ------------------------------------------------------------------------ \n",
      "Looking for result files in ./../results/HIPERMovelets/run*/Gowalla/HL-geo_only/HL-geo_only.txt\n",
      "Loading HL-geo_only results from: ./../results/HIPERMovelets/run1/Gowalla/HL-geo_only\n",
      "Loading HL-geo_only results from: ./../results/HIPERMovelets/run2/Gowalla/HL-geo_only\n",
      "Loading HL-geo_only results from: ./../results/HIPERMovelets/run3/Gowalla/HL-geo_only\n",
      "Loading HL-geo_only results from: ./../results/HIPERMovelets/run4/Gowalla/HL-geo_only\n",
      "Loading HL-geo_only results from: ./../results/HIPERMovelets/run5/Gowalla/HL-geo_only\n",
      "Looking for result files in ./../results/HIPERMovelets/run*/Gowalla/HpL-geo_only/HpL-geo_only.txt\n",
      "Loading HpL-geo_only results from: ./../results/HIPERMovelets/run1/Gowalla/HpL-geo_only\n",
      "Loading HpL-geo_only results from: ./../results/HIPERMovelets/run2/Gowalla/HpL-geo_only\n",
      "Loading HpL-geo_only results from: ./../results/HIPERMovelets/run3/Gowalla/HpL-geo_only\n",
      "Loading HpL-geo_only results from: ./../results/HIPERMovelets/run4/Gowalla/HpL-geo_only\n",
      "Loading HpL-geo_only results from: ./../results/HIPERMovelets/run5/Gowalla/HpL-geo_only\n",
      "Looking for result files in ./../results/HIPERMovelets/run*/Gowalla/HL-specific/HL-specific.txt\n",
      "Loading HL-specific results from: ./../results/HIPERMovelets/run1/Gowalla/HL-specific\n",
      "Loading HL-specific results from: ./../results/HIPERMovelets/run2/Gowalla/HL-specific\n",
      "Loading HL-specific results from: ./../results/HIPERMovelets/run3/Gowalla/HL-specific\n",
      "Loading HL-specific results from: ./../results/HIPERMovelets/run4/Gowalla/HL-specific\n",
      "Loading HL-specific results from: ./../results/HIPERMovelets/run5/Gowalla/HL-specific\n",
      "Looking for result files in ./../results/HIPERMovelets/run*/Gowalla/HpL-specific/HpL-specific.txt\n",
      "Loading HpL-specific results from: ./../results/HIPERMovelets/run1/Gowalla/HpL-specific\n",
      "Loading HpL-specific results from: ./../results/HIPERMovelets/run2/Gowalla/HpL-specific\n",
      "Loading HpL-specific results from: ./../results/HIPERMovelets/run3/Gowalla/HpL-specific\n",
      "Loading HpL-specific results from: ./../results/HIPERMovelets/run4/Gowalla/HpL-specific\n",
      "Loading HpL-specific results from: ./../results/HIPERMovelets/run5/Gowalla/HpL-specific\n",
      "\\begin{table*}[!ht]\n",
      "\\centering\n",
      "\\begin{tabular}{|c|r||r|r|}\n",
      "\\hline\n",
      "\\hline\n",
      "Dataset &   & HL & HpL \\\\\n",
      "\n",
      "\\hline\n",
      "\\multirow{11}{2cm}{Gowalla (geo_only)}\n",
      "&     Candidates &   254,468 &    91,585 \\\\\n",
      "&       Movelets &    12,044 &    22,857 \\\\\n",
      "\\cline{2-4}\n",
      "&            MLP &    90.077 &    94.077 \\\\\n",
      "&             RF &    88.379 &    90.466 \\\\\n",
      "&            SVM &    86.961 &    89.801 \\\\\n",
      "\\cline{2-4}\n",
      "&           Time &    04m46s &    10m06s \\\\\n",
      "&         T. MLP &    02m59s &    05m36s \\\\\n",
      "&          T. RF &       06s &       09s \\\\\n",
      "&         T. SVM &    12m21s &    32m22s \\\\\n",
      "\\cline{2-4}\n",
      "&  Trajs. Looked &     3,409 &     2,254 \\\\\n",
      "& Trajs. Ignored &       853 &     2,008 \\\\\n",
      "\n",
      "\\hline\n",
      "\\multirow{11}{2cm}{Gowalla (specific)}\n",
      "&     Candidates & 3,022,461 &   601,061 \\\\\n",
      "&       Movelets &    19,887 &    38,974 \\\\\n",
      "\\cline{2-4}\n",
      "&            MLP &    94.082 &    95.303 \\\\\n",
      "&             RF &    92.430 &    92.677 \\\\\n",
      "&            SVM &    87.809 &    90.560 \\\\\n",
      "\\cline{2-4}\n",
      "&           Time &    54m36s &  1h57m55s \\\\\n",
      "&         T. MLP &    04m56s &    09m27s \\\\\n",
      "&          T. RF &       08s &       11s \\\\\n",
      "&         T. SVM &    46m01s &  1h15m20s \\\\\n",
      "\\cline{2-4}\n",
      "&  Trajs. Looked &     2,720 &     2,372 \\\\\n",
      "& Trajs. Ignored &     1,543 &     1,891 \\\\\n",
      "\\hline\n",
      "\\hline\n",
      "\\end{tabular}\n",
      "\\caption{Results for Gowalla (geo_only) dataset.}\n",
      "\\label{tab:results_Gowalla (geo_only)}\n",
      "\\end{table*}\n",
      "% ------------------------------------------------------------------------ \n"
     ]
    }
   ],
   "source": [
    "# COMPACT\n",
    "methods = ['HL', 'HpL']\n",
    "datasets = ['geo_only', 'specific']#, 'generic']\n",
    "prefixes = ['Brightkite', 'Gowalla']\n",
    "\n",
    "for prefix in prefixes:\n",
    "    table = pd.DataFrame()\n",
    "    for dataset in datasets:\n",
    "        data = pd.DataFrame()\n",
    "        for method in methods:\n",
    "            df = kFoldResults(os.path.join(res_path, 'HIPERMovelets'), prefix, method+'-'+dataset)\n",
    "            if not len(data.columns) > 0:\n",
    "                data = df[['Dataset', ' ']]\n",
    "            data[method] = df[[method+'-'+dataset]]\n",
    "        data.at[0,'Dataset'] = prefix + ' ('+dataset+')'\n",
    "        table = pd.concat([table, data], axis=0)\n",
    "    table = table.reset_index(drop=True)\n",
    "    printLatex(table, ajust=9)\n",
    "    print('% ------------------------------------------------------------------------ ')"
   ]
  },
  {
   "cell_type": "code",
   "execution_count": null,
   "metadata": {},
   "outputs": [],
   "source": [
    "table"
   ]
  },
  {
   "cell_type": "code",
   "execution_count": null,
   "metadata": {},
   "outputs": [],
   "source": [
    "# ALL RUNS\n",
    "methods = ['HL', 'HpL']\n",
    "datasets = ['geo_only', 'specific']\n",
    "prefixes = ['Brightkite', 'Gowalla']\n",
    "\n",
    "for prefix in prefixes:\n",
    "    for method in methods:\n",
    "        for dataset in datasets:\n",
    "            df = kFoldResults(os.path.join(res_path, 'HIPERMovelets'), prefix, method+'-'+dataset)\n",
    "            printLatex(df, ajust=9)\n",
    "            print('% ------------------------------------------------------------------------ ')"
   ]
  },
  {
   "cell_type": "markdown",
   "metadata": {},
   "source": [
    "---\n",
    "To print the dataframe result in a Latex formatted table:"
   ]
  },
  {
   "cell_type": "code",
   "execution_count": null,
   "metadata": {},
   "outputs": [],
   "source": [
    "i = 4\n",
    "prefix      = os.path.join('run'+str(i),'Brightkite')"
   ]
  },
  {
   "cell_type": "code",
   "execution_count": null,
   "metadata": {},
   "outputs": [],
   "source": [
    "df = results2df(os.path.join(res_path, 'HIPERMovelets'), prefix)\n",
    "df"
   ]
  },
  {
   "cell_type": "code",
   "execution_count": null,
   "metadata": {},
   "outputs": [],
   "source": [
    "printLatex(df)"
   ]
  },
  {
   "cell_type": "markdown",
   "metadata": {},
   "source": [
    "\\# By Tarlis Portela (2020)"
   ]
  }
 ],
 "metadata": {
  "kernelspec": {
   "display_name": "Python 3",
   "language": "python",
   "name": "python3"
  },
  "language_info": {
   "codemirror_mode": {
    "name": "ipython",
    "version": 3
   },
   "file_extension": ".py",
   "mimetype": "text/x-python",
   "name": "python",
   "nbconvert_exporter": "python",
   "pygments_lexer": "ipython3",
   "version": "3.7.6"
  }
 },
 "nbformat": 4,
 "nbformat_minor": 4
}
