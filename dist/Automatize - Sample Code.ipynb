{
 "cells": [
  {
   "cell_type": "code",
   "execution_count": 5,
   "metadata": {},
   "outputs": [],
   "source": [
    "import os\n",
    "\n",
    "d = '/Users/tarlis/Documents/'\n",
    "data = os.path.join(d, 'data')\n",
    "\n",
    "data_folder = os.path.join(data, 'FoursquareNY')\n",
    "res_path    = os.path.join(d, 'results')\n",
    "prefix      = 'FNY'\n",
    "descriptor  = 'FoursquareNY_Geo_v3'"
   ]
  },
  {
   "cell_type": "code",
   "execution_count": 6,
   "metadata": {},
   "outputs": [],
   "source": [
    "from automatize.run import run, mergeAndMove"
   ]
  },
  {
   "cell_type": "code",
   "execution_count": null,
   "metadata": {},
   "outputs": [],
   "source": [
    "run(data_folder, res_path, prefix, 'HL-T50-a', descriptor, Ms=-3, extra='-version hiper -T 0.5', \n",
    "    prg_path=os.path.join(d, 'programs'), print_only=True)"
   ]
  },
  {
   "cell_type": "code",
   "execution_count": 7,
   "metadata": {
    "scrolled": true
   },
   "outputs": [
    {
     "name": "stdout",
     "output_type": "stream",
     "text": [
      "# Merging here: /Users/tarlis/Documents/results/FNY/HpL-DPW/MASTERMovelets/Log_FoursquareNY_DayPoiWe_v3_LSP_ED (/Users/tarlis/Documents/results/FNY/HpL-DPW/MASTERMovelets)\n",
      "  [1] \"1006/train.csv\" \"1016/train.csv\" \"1017/train.csv\" \"1019/train.csv\"\n",
      "  [5] \"1025/train.csv\" \"1029/train.csv\" \"1040/train.csv\" \"1044/train.csv\"\n",
      "  [9] \"1047/train.csv\" \"1054/train.csv\" \"1055/train.csv\" \"1070/train.csv\"\n",
      " [13] \"119/train.csv\"  \"12/train.csv\"   \"120/train.csv\"  \"121/train.csv\" \n",
      " [17] \"138/train.csv\"  \"14/train.csv\"   \"144/train.csv\"  \"150/train.csv\" \n",
      " [21] \"153/train.csv\"  \"154/train.csv\"  \"164/train.csv\"  \"171/train.csv\" \n",
      " [25] \"172/train.csv\"  \"178/train.csv\"  \"181/train.csv\"  \"182/train.csv\" \n",
      " [29] \"184/train.csv\"  \"185/train.csv\"  \"187/train.csv\"  \"188/train.csv\" \n",
      " [33] \"19/train.csv\"   \"201/train.csv\"  \"207/train.csv\"  \"208/train.csv\" \n",
      " [37] \"236/train.csv\"  \"246/train.csv\"  \"25/train.csv\"   \"254/train.csv\" \n",
      " [41] \"262/train.csv\"  \"267/train.csv\"  \"280/train.csv\"  \"293/train.csv\" \n",
      " [45] \"295/train.csv\"  \"315/train.csv\"  \"319/train.csv\"  \"34/train.csv\"  \n",
      " [49] \"343/train.csv\"  \"344/train.csv\"  \"347/train.csv\"  \"349/train.csv\" \n",
      " [53] \"354/train.csv\"  \"355/train.csv\"  \"359/train.csv\"  \"365/train.csv\" \n",
      " [57] \"371/train.csv\"  \"372/train.csv\"  \"384/train.csv\"  \"386/train.csv\" \n",
      " [61] \"390/train.csv\"  \"396/train.csv\"  \"398/train.csv\"  \"412/train.csv\" \n",
      " [65] \"422/train.csv\"  \"425/train.csv\"  \"432/train.csv\"  \"438/train.csv\" \n",
      " [69] \"439/train.csv\"  \"440/train.csv\"  \"443/train.csv\"  \"445/train.csv\" \n",
      " [73] \"448/train.csv\"  \"458/train.csv\"  \"461/train.csv\"  \"472/train.csv\" \n",
      " [77] \"474/train.csv\"  \"475/train.csv\"  \"484/train.csv\"  \"488/train.csv\" \n",
      " [81] \"492/train.csv\"  \"495/train.csv\"  \"50/train.csv\"   \"509/train.csv\" \n",
      " [85] \"518/train.csv\"  \"519/train.csv\"  \"521/train.csv\"  \"527/train.csv\" \n",
      " [89] \"529/train.csv\"  \"531/train.csv\"  \"533/train.csv\"  \"539/train.csv\" \n",
      " [93] \"546/train.csv\"  \"553/train.csv\"  \"56/train.csv\"   \"572/train.csv\" \n",
      " [97] \"579/train.csv\"  \"582/train.csv\"  \"585/train.csv\"  \"589/train.csv\" \n",
      "[101] \"593/train.csv\"  \"595/train.csv\"  \"596/train.csv\"  \"6/train.csv\"   \n",
      "[105] \"612/train.csv\"  \"617/train.csv\"  \"621/train.csv\"  \"628/train.csv\" \n",
      "[109] \"635/train.csv\"  \"638/train.csv\"  \"642/train.csv\"  \"643/train.csv\" \n",
      "[113] \"645/train.csv\"  \"646/train.csv\"  \"647/train.csv\"  \"649/train.csv\" \n",
      "[117] \"65/train.csv\"   \"652/train.csv\"  \"660/train.csv\"  \"662/train.csv\" \n",
      "[121] \"673/train.csv\"  \"682/train.csv\"  \"688/train.csv\"  \"689/train.csv\" \n",
      "[125] \"69/train.csv\"   \"699/train.csv\"  \"7/train.csv\"    \"70/train.csv\"  \n",
      "[129] \"702/train.csv\"  \"705/train.csv\"  \"706/train.csv\"  \"708/train.csv\" \n",
      "[133] \"718/train.csv\"  \"722/train.csv\"  \"723/train.csv\"  \"73/train.csv\"  \n",
      "[137] \"730/train.csv\"  \"734/train.csv\"  \"742/train.csv\"  \"744/train.csv\" \n",
      "[141] \"745/train.csv\"  \"750/train.csv\"  \"752/train.csv\"  \"753/train.csv\" \n",
      "[145] \"754/train.csv\"  \"763/train.csv\"  \"766/train.csv\"  \"767/train.csv\" \n",
      "[149] \"768/train.csv\"  \"773/train.csv\"  \"787/train.csv\"  \"80/train.csv\"  \n",
      "[153] \"806/train.csv\"  \"81/train.csv\"   \"816/train.csv\"  \"819/train.csv\" \n",
      "[157] \"82/train.csv\"   \"820/train.csv\"  \"827/train.csv\"  \"834/train.csv\" \n",
      "[161] \"84/train.csv\"   \"842/train.csv\"  \"857/train.csv\"  \"868/train.csv\" \n",
      "[165] \"872/train.csv\"  \"877/train.csv\"  \"881/train.csv\"  \"882/train.csv\" \n",
      "[169] \"885/train.csv\"  \"889/train.csv\"  \"891/train.csv\"  \"895/train.csv\" \n",
      "[173] \"90/train.csv\"   \"900/train.csv\"  \"901/train.csv\"  \"902/train.csv\" \n",
      "[177] \"91/train.csv\"   \"913/train.csv\"  \"916/train.csv\"  \"922/train.csv\" \n",
      "[181] \"928/train.csv\"  \"934/train.csv\"  \"94/train.csv\"   \"943/train.csv\" \n",
      "[185] \"95/train.csv\"   \"951/train.csv\"  \"974/train.csv\"  \"976/train.csv\" \n",
      "[189] \"980/train.csv\"  \"988/train.csv\"  \"99/train.csv\"   \"990/train.csv\" \n",
      "[193] \"992/train.csv\" \n",
      "[1] \"Loading training files\"\n",
      "[1] \"Writing train file\"\n",
      "[1] \"Loading testing files\"\n",
      "[1] \"Writing test file\"\n",
      "[1] \"Done.\"\n",
      "\n",
      "\n",
      "\n"
     ]
    }
   ],
   "source": [
    "mergeAndMove(os.path.join(res_path, prefix, 'HpL-DPW'), 'MASTERMovelets', os.path.join(d, 'programs'))"
   ]
  },
  {
   "cell_type": "code",
   "execution_count": 2,
   "metadata": {},
   "outputs": [
    {
     "name": "stderr",
     "output_type": "stream",
     "text": [
      "Using TensorFlow backend.\n"
     ]
    }
   ],
   "source": [
    "from automatize.analysis import def_random_seed, results2df, ACC4All, printLatex, MLP\n",
    "def_random_seed(random_num=1, seed_num=1)"
   ]
  },
  {
   "cell_type": "code",
   "execution_count": null,
   "metadata": {},
   "outputs": [],
   "source": [
    "save_results = True\n",
    "\n",
    "# ACC4All(res_path, prefix, save_results)\n",
    "MLP('/Users/tarlis/Documents/results', 'BK', 'HpL')"
   ]
  },
  {
   "cell_type": "code",
   "execution_count": null,
   "metadata": {},
   "outputs": [],
   "source": [
    "df = results2df(res_path, prefix)\n",
    "df"
   ]
  },
  {
   "cell_type": "code",
   "execution_count": null,
   "metadata": {},
   "outputs": [],
   "source": [
    "printLatex(df)"
   ]
  },
  {
   "cell_type": "code",
   "execution_count": null,
   "metadata": {},
   "outputs": [],
   "source": []
  }
 ],
 "metadata": {
  "kernelspec": {
   "display_name": "Python 3",
   "language": "python",
   "name": "python3"
  },
  "language_info": {
   "codemirror_mode": {
    "name": "ipython",
    "version": 3
   },
   "file_extension": ".py",
   "mimetype": "text/x-python",
   "name": "python",
   "nbconvert_exporter": "python",
   "pygments_lexer": "ipython3",
   "version": "3.7.6"
  }
 },
 "nbformat": 4,
 "nbformat_minor": 4
}
